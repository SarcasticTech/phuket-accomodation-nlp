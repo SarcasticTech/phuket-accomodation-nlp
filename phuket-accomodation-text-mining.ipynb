{
 "cells": [
  {
   "cell_type": "markdown",
   "id": "65b745c3",
   "metadata": {},
   "source": [
    "<b><font size=\"3\">Installing & Importing Reqired Libraries</font></b>"
   ]
  },
  {
   "cell_type": "code",
   "execution_count": 1,
   "id": "8530910d",
   "metadata": {},
   "outputs": [
    {
     "name": "stderr",
     "output_type": "stream",
     "text": [
      "[nltk_data] Downloading package stopwords to\n",
      "[nltk_data]     C:\\Users\\jorom\\AppData\\Roaming\\nltk_data...\n",
      "[nltk_data]   Package stopwords is already up-to-date!\n",
      "[nltk_data] Downloading package punkt to\n",
      "[nltk_data]     C:\\Users\\jorom\\AppData\\Roaming\\nltk_data...\n",
      "[nltk_data]   Package punkt is already up-to-date!\n",
      "[nltk_data] Downloading package wordnet to\n",
      "[nltk_data]     C:\\Users\\jorom\\AppData\\Roaming\\nltk_data...\n",
      "[nltk_data]   Package wordnet is already up-to-date!\n",
      "[nltk_data] Downloading package wordnet to\n",
      "[nltk_data]     C:\\Users\\jorom\\AppData\\Roaming\\nltk_data...\n",
      "[nltk_data]   Package wordnet is already up-to-date!\n",
      "[nltk_data] Downloading package omw-1.4 to\n",
      "[nltk_data]     C:\\Users\\jorom\\AppData\\Roaming\\nltk_data...\n",
      "[nltk_data]   Package omw-1.4 is already up-to-date!\n",
      "[nltk_data] Downloading package vader_lexicon to\n",
      "[nltk_data]     C:\\Users\\jorom\\AppData\\Roaming\\nltk_data...\n",
      "[nltk_data]   Package vader_lexicon is already up-to-date!\n"
     ]
    }
   ],
   "source": [
    "import numpy as np\n",
    "import pandas as pd\n",
    "import matplotlib.pyplot as plt\n",
    "import re\n",
    "import seaborn as sns\n",
    "from wordcloud import WordCloud\n",
    "import nltk\n",
    "nltk.download(['stopwords',\n",
    "               'punkt',\n",
    "               'wordnet',\n",
    "               'wordnet',\n",
    "               'omw-1.4',\n",
    "               'vader_lexicon'])\n",
    "\n",
    "from sklearn.feature_extraction.text import CountVectorizer\n",
    "from sklearn.model_selection import train_test_split\n",
    "from imblearn.under_sampling import RandomUnderSampler\n",
    "from sklearn.preprocessing import MultiLabelBinarizer\n",
    "from nltk.sentiment.vader import SentimentIntensityAnalyzer\n",
    "from sklearn.naive_bayes import MultinomialNB\n",
    "from nltk.probability import FreqDist\n",
    "from sklearn import metrics\n",
    "from sklearn.metrics import classification_report, confusion_matrix"
   ]
  },
  {
   "cell_type": "markdown",
   "id": "a14bf37d",
   "metadata": {},
   "source": [
    "<b><font size=\"3\">Importing the Dataset</font></b>"
   ]
  },
  {
   "cell_type": "code",
   "execution_count": 2,
   "id": "3b2b9e7f",
   "metadata": {},
   "outputs": [],
   "source": [
    "reviewsA = pd.read_csv(\"C:\\\\Users\\\\jorom\\\\Documents\\\\University\\\\Trimester 1\\\\Assignment\\\\Machine Learning & Data Mining\\\\Items\\\\tourist_accommodation_reviews.csv\", encoding = \"cp1252\")\n",
    "reviewsB = pd.read_csv(\"C:\\\\Users\\\\jorom\\\\Documents\\\\University\\\\Trimester 1\\\\Assignment\\\\Machine Learning & Data Mining\\\\Items\\\\tourist_accommodation_reviews.csv\", encoding = \"cp1252\")"
   ]
  },
  {
   "cell_type": "code",
   "execution_count": 3,
   "id": "2b1f7a95",
   "metadata": {},
   "outputs": [],
   "source": [
    "reviewsA.columns = [\"ID\", \"Date\", \"Location\", \"Hotel_Name\", \"Review\"]\n",
    "reviewsB.columns = [\"ID\", \"Date\", \"Location\", \"Hotel_Name\", \"Review\"]"
   ]
  },
  {
   "cell_type": "markdown",
   "id": "e0bf0f02",
   "metadata": {},
   "source": [
    "## <b><font size=\"3\">Creating & Cleaning Tokens</font></b>"
   ]
  },
  {
   "cell_type": "code",
   "execution_count": 4,
   "id": "3c509b47",
   "metadata": {},
   "outputs": [],
   "source": [
    "simple_text = 'This isn\\'t a real text, this is an example text...... Notice this contains punctuation!!'"
   ]
  },
  {
   "cell_type": "code",
   "execution_count": 5,
   "id": "ad234678",
   "metadata": {},
   "outputs": [
    {
     "name": "stdout",
     "output_type": "stream",
     "text": [
      "['This', \"isn't\", 'a', 'real', 'text', 'this', 'is', 'an', 'example', 'text', 'Notice', 'this', 'contains', 'punctuation']\n"
     ]
    }
   ],
   "source": [
    "tokenizer = nltk.tokenize.RegexpTokenizer('[a-zA-Z0-9\\']+')\n",
    "\n",
    "tokenized_document = tokenizer.tokenize(simple_text)\n",
    "\n",
    "print(tokenized_document)"
   ]
  },
  {
   "cell_type": "code",
   "execution_count": 6,
   "id": "5d376320",
   "metadata": {},
   "outputs": [
    {
     "name": "stdout",
     "output_type": "stream",
     "text": [
      "['i', 'me', 'my', 'myself', 'we', 'our', 'ours', 'ourselves', 'you', \"you're\", \"you've\", \"you'll\", \"you'd\", 'your', 'yours', 'yourself', 'yourselves', 'he', 'him', 'his', 'himself', 'she', \"she's\", 'her', 'hers', 'herself', 'it', \"it's\", 'its', 'itself', 'they', 'them', 'their', 'theirs', 'themselves', 'what', 'which', 'who', 'whom', 'this', 'that', \"that'll\", 'these', 'those', 'am', 'is', 'are', 'was', 'were', 'be', 'been', 'being', 'have', 'has', 'had', 'having', 'do', 'does', 'did', 'doing', 'a', 'an', 'the', 'and', 'but', 'if', 'or', 'because', 'as', 'until', 'while', 'of', 'at', 'by', 'for', 'with', 'about', 'against', 'between', 'into', 'through', 'during', 'before', 'after', 'above', 'below', 'to', 'from', 'up', 'down', 'in', 'out', 'on', 'off', 'over', 'under', 'again', 'further', 'then', 'once', 'here', 'there', 'when', 'where', 'why', 'how', 'all', 'any', 'both', 'each', 'few', 'more', 'most', 'other', 'some', 'such', 'no', 'nor', 'not', 'only', 'own', 'same', 'so', 'than', 'too', 'very', 's', 't', 'can', 'will', 'just', 'don', \"don't\", 'should', \"should've\", 'now', 'd', 'll', 'm', 'o', 're', 've', 'y', 'ain', 'aren', \"aren't\", 'couldn', \"couldn't\", 'didn', \"didn't\", 'doesn', \"doesn't\", 'hadn', \"hadn't\", 'hasn', \"hasn't\", 'haven', \"haven't\", 'isn', \"isn't\", 'ma', 'mightn', \"mightn't\", 'mustn', \"mustn't\", 'needn', \"needn't\", 'shan', \"shan't\", 'shouldn', \"shouldn't\", 'wasn', \"wasn't\", 'weren', \"weren't\", 'won', \"won't\", 'wouldn', \"wouldn't\"]\n"
     ]
    }
   ],
   "source": [
    "stop_words = nltk.corpus.stopwords.words('english')\n",
    "\n",
    "print(stop_words)"
   ]
  },
  {
   "cell_type": "code",
   "execution_count": 7,
   "id": "970919f9",
   "metadata": {},
   "outputs": [
    {
     "name": "stdout",
     "output_type": "stream",
     "text": [
      "['real', 'text', 'example', 'text', 'notice', 'contains', 'punctuation']\n"
     ]
    }
   ],
   "source": [
    "cleaned_tokens = []\n",
    "\n",
    "for word in tokenized_document:\n",
    "    word = word.lower()\n",
    "    if word not in stop_words:\n",
    "        cleaned_tokens.append(word)\n",
    "        \n",
    "print(cleaned_tokens)"
   ]
  },
  {
   "cell_type": "code",
   "execution_count": 8,
   "id": "9bf08792",
   "metadata": {},
   "outputs": [
    {
     "name": "stdout",
     "output_type": "stream",
     "text": [
      "['real', 'text', 'example', 'text', 'notice', 'contains', 'punctuation']\n"
     ]
    }
   ],
   "source": [
    "cleaned_tokens = [word.lower() for word in tokenized_document if word.lower() not in stop_words]\n",
    "\n",
    "print(cleaned_tokens)"
   ]
  },
  {
   "cell_type": "code",
   "execution_count": 9,
   "id": "391ec72f",
   "metadata": {},
   "outputs": [
    {
     "name": "stdout",
     "output_type": "stream",
     "text": [
      "Lemmatized words:  ['cati', 'sing', 'hop', 'rock', 'good', 'easily']\n",
      "Stemmed words:  ['cati', 'sing', 'hop', 'rock', 'better', 'easili']\n"
     ]
    }
   ],
   "source": [
    "lemmatizer = nltk.stem.WordNetLemmatizer()\n",
    "stemmer = nltk.stem.PorterStemmer()\n",
    "\n",
    "words = ['cati', 'sings', 'hopped', 'rocks', 'better', 'easily']\n",
    "pos = ['n', 'v', 'v', 'n', 'a', 'r']\n",
    "lemmatized_words = [lemmatizer.lemmatize(words[i], pos=pos[i]) for i in range(6)]\n",
    "stemmed_words = [stemmer.stem(word) for word in words]\n",
    "\n",
    "print(\"Lemmatized words: \", lemmatized_words)\n",
    "print(\"Stemmed words: \", stemmed_words)"
   ]
  },
  {
   "cell_type": "code",
   "execution_count": 10,
   "id": "7deaee79",
   "metadata": {},
   "outputs": [
    {
     "name": "stdout",
     "output_type": "stream",
     "text": [
      "['real', 'text', 'exampl', 'text', 'notic', 'contain', 'punctuat']\n"
     ]
    }
   ],
   "source": [
    "stemmed_text = [stemmer.stem(word) for word in cleaned_tokens]\n",
    "print(stemmed_text)"
   ]
  },
  {
   "cell_type": "markdown",
   "id": "6f0e113e",
   "metadata": {},
   "source": [
    "<b><font size=\"3\">Creating the Pre-Process Function</font></b>"
   ]
  },
  {
   "cell_type": "code",
   "execution_count": 11,
   "id": "d111deb8",
   "metadata": {},
   "outputs": [],
   "source": [
    "def preprocess_text(text):\n",
    "    tokenized_document = nltk.tokenize.RegexpTokenizer('[a-zA-Z0-9\\']+').tokenize(text)\n",
    "    cleaned_tokens = [word.lower() for word in tokenized_document if word.lower() not in stop_words]\n",
    "    stemmed_text = [nltk.stem.PorterStemmer().stem(word) for word in cleaned_tokens]\n",
    "    return stemmed_text"
   ]
  },
  {
   "cell_type": "markdown",
   "id": "5a8c66cd",
   "metadata": {},
   "source": [
    "<b><font size=\"3\">Analyzing the Data</font></b>"
   ]
  },
  {
   "cell_type": "code",
   "execution_count": 12,
   "id": "1e8fe923",
   "metadata": {},
   "outputs": [
    {
     "data": {
      "text/html": [
       "<div>\n",
       "<style scoped>\n",
       "    .dataframe tbody tr th:only-of-type {\n",
       "        vertical-align: middle;\n",
       "    }\n",
       "\n",
       "    .dataframe tbody tr th {\n",
       "        vertical-align: top;\n",
       "    }\n",
       "\n",
       "    .dataframe thead th {\n",
       "        text-align: right;\n",
       "    }\n",
       "</style>\n",
       "<table border=\"1\" class=\"dataframe\">\n",
       "  <thead>\n",
       "    <tr style=\"text-align: right;\">\n",
       "      <th></th>\n",
       "      <th>ID</th>\n",
       "      <th>Date</th>\n",
       "      <th>Location</th>\n",
       "      <th>Hotel_Name</th>\n",
       "      <th>Review</th>\n",
       "    </tr>\n",
       "  </thead>\n",
       "  <tbody>\n",
       "    <tr>\n",
       "      <th>0</th>\n",
       "      <td>rn579778340</td>\n",
       "      <td>Reviewed 1 week ago</td>\n",
       "      <td>Kathu</td>\n",
       "      <td>Thong Dee The Kathu Brasserie</td>\n",
       "      <td>Just been for sunday roast lamb and beef truly...</td>\n",
       "    </tr>\n",
       "    <tr>\n",
       "      <th>1</th>\n",
       "      <td>rn576350875</td>\n",
       "      <td>Reviewed 3 weeks ago</td>\n",
       "      <td>Kathu</td>\n",
       "      <td>Thong Dee The Kathu Brasserie</td>\n",
       "      <td>Quietly set off the main road, nice atmosphere...</td>\n",
       "    </tr>\n",
       "    <tr>\n",
       "      <th>2</th>\n",
       "      <td>rn574921678</td>\n",
       "      <td>Reviewed 4 weeks ago</td>\n",
       "      <td>Kathu</td>\n",
       "      <td>Thong Dee The Kathu Brasserie</td>\n",
       "      <td>I made a reservation for a birthday two days i...</td>\n",
       "    </tr>\n",
       "    <tr>\n",
       "      <th>3</th>\n",
       "      <td>rn572905503</td>\n",
       "      <td>Reviewed April 12, 2018</td>\n",
       "      <td>Kathu</td>\n",
       "      <td>Thong Dee The Kathu Brasserie</td>\n",
       "      <td>We visit here regularly and never fail to be i...</td>\n",
       "    </tr>\n",
       "    <tr>\n",
       "      <th>4</th>\n",
       "      <td>rn572364712</td>\n",
       "      <td>Reviewed April 10, 2018</td>\n",
       "      <td>Kathu</td>\n",
       "      <td>Thong Dee The Kathu Brasserie</td>\n",
       "      <td>Visited this wonderful place on my travels and...</td>\n",
       "    </tr>\n",
       "  </tbody>\n",
       "</table>\n",
       "</div>"
      ],
      "text/plain": [
       "            ID                      Date Location  \\\n",
       "0  rn579778340      Reviewed 1 week ago     Kathu   \n",
       "1  rn576350875     Reviewed 3 weeks ago     Kathu   \n",
       "2  rn574921678     Reviewed 4 weeks ago     Kathu   \n",
       "3  rn572905503  Reviewed April 12, 2018     Kathu   \n",
       "4  rn572364712  Reviewed April 10, 2018     Kathu   \n",
       "\n",
       "                      Hotel_Name  \\\n",
       "0  Thong Dee The Kathu Brasserie   \n",
       "1  Thong Dee The Kathu Brasserie   \n",
       "2  Thong Dee The Kathu Brasserie   \n",
       "3  Thong Dee The Kathu Brasserie   \n",
       "4  Thong Dee The Kathu Brasserie   \n",
       "\n",
       "                                              Review  \n",
       "0  Just been for sunday roast lamb and beef truly...  \n",
       "1  Quietly set off the main road, nice atmosphere...  \n",
       "2  I made a reservation for a birthday two days i...  \n",
       "3  We visit here regularly and never fail to be i...  \n",
       "4  Visited this wonderful place on my travels and...  "
      ]
     },
     "execution_count": 12,
     "metadata": {},
     "output_type": "execute_result"
    }
   ],
   "source": [
    "reviewsA.head()"
   ]
  },
  {
   "cell_type": "code",
   "execution_count": 13,
   "id": "af68ec2c",
   "metadata": {},
   "outputs": [
    {
     "data": {
      "text/html": [
       "<div>\n",
       "<style scoped>\n",
       "    .dataframe tbody tr th:only-of-type {\n",
       "        vertical-align: middle;\n",
       "    }\n",
       "\n",
       "    .dataframe tbody tr th {\n",
       "        vertical-align: top;\n",
       "    }\n",
       "\n",
       "    .dataframe thead th {\n",
       "        text-align: right;\n",
       "    }\n",
       "</style>\n",
       "<table border=\"1\" class=\"dataframe\">\n",
       "  <thead>\n",
       "    <tr style=\"text-align: right;\">\n",
       "      <th></th>\n",
       "      <th>ID</th>\n",
       "      <th>Date</th>\n",
       "      <th>Location</th>\n",
       "      <th>Hotel_Name</th>\n",
       "      <th>Review</th>\n",
       "    </tr>\n",
       "  </thead>\n",
       "  <tbody>\n",
       "    <tr>\n",
       "      <th>53639</th>\n",
       "      <td>rn162368197</td>\n",
       "      <td>Reviewed May 29, 2013</td>\n",
       "      <td>Patong</td>\n",
       "      <td>Bite in</td>\n",
       "      <td>I love this small restaurant, for the great fo...</td>\n",
       "    </tr>\n",
       "    <tr>\n",
       "      <th>53640</th>\n",
       "      <td>rn161843734</td>\n",
       "      <td>Reviewed May 25, 2013</td>\n",
       "      <td>Patong</td>\n",
       "      <td>Bite in</td>\n",
       "      <td>We stopped at this restaurant after shopping a...</td>\n",
       "    </tr>\n",
       "    <tr>\n",
       "      <th>53641</th>\n",
       "      <td>rn161734077</td>\n",
       "      <td>Reviewed May 24, 2013</td>\n",
       "      <td>Patong</td>\n",
       "      <td>Bite in</td>\n",
       "      <td>Great times ,This is one of the best restauran...</td>\n",
       "    </tr>\n",
       "    <tr>\n",
       "      <th>53642</th>\n",
       "      <td>rn161218072</td>\n",
       "      <td>Reviewed May 19, 2013</td>\n",
       "      <td>Patong</td>\n",
       "      <td>Bite in</td>\n",
       "      <td>Bite in, it has become my favorite restaurant ...</td>\n",
       "    </tr>\n",
       "    <tr>\n",
       "      <th>53643</th>\n",
       "      <td>rn161212765</td>\n",
       "      <td>Reviewed May 19, 2013</td>\n",
       "      <td>Patong</td>\n",
       "      <td>Bite in</td>\n",
       "      <td>The restaurant put in a good location in Jungc...</td>\n",
       "    </tr>\n",
       "  </tbody>\n",
       "</table>\n",
       "</div>"
      ],
      "text/plain": [
       "                ID                    Date Location Hotel_Name  \\\n",
       "53639  rn162368197  Reviewed May 29, 2013    Patong    Bite in   \n",
       "53640  rn161843734  Reviewed May 25, 2013    Patong    Bite in   \n",
       "53641  rn161734077  Reviewed May 24, 2013    Patong    Bite in   \n",
       "53642  rn161218072  Reviewed May 19, 2013    Patong    Bite in   \n",
       "53643  rn161212765  Reviewed May 19, 2013    Patong    Bite in   \n",
       "\n",
       "                                                  Review  \n",
       "53639  I love this small restaurant, for the great fo...  \n",
       "53640  We stopped at this restaurant after shopping a...  \n",
       "53641  Great times ,This is one of the best restauran...  \n",
       "53642  Bite in, it has become my favorite restaurant ...  \n",
       "53643  The restaurant put in a good location in Jungc...  "
      ]
     },
     "execution_count": 13,
     "metadata": {},
     "output_type": "execute_result"
    }
   ],
   "source": [
    "reviewsA.tail()"
   ]
  },
  {
   "cell_type": "code",
   "execution_count": 14,
   "id": "945ec50b",
   "metadata": {},
   "outputs": [
    {
     "data": {
      "text/html": [
       "<div>\n",
       "<style scoped>\n",
       "    .dataframe tbody tr th:only-of-type {\n",
       "        vertical-align: middle;\n",
       "    }\n",
       "\n",
       "    .dataframe tbody tr th {\n",
       "        vertical-align: top;\n",
       "    }\n",
       "\n",
       "    .dataframe thead th {\n",
       "        text-align: right;\n",
       "    }\n",
       "</style>\n",
       "<table border=\"1\" class=\"dataframe\">\n",
       "  <thead>\n",
       "    <tr style=\"text-align: right;\">\n",
       "      <th></th>\n",
       "      <th>ID</th>\n",
       "      <th>Date</th>\n",
       "      <th>Location</th>\n",
       "      <th>Hotel_Name</th>\n",
       "      <th>Review</th>\n",
       "    </tr>\n",
       "  </thead>\n",
       "  <tbody>\n",
       "    <tr>\n",
       "      <th>count</th>\n",
       "      <td>53644</td>\n",
       "      <td>53644</td>\n",
       "      <td>53644</td>\n",
       "      <td>53644</td>\n",
       "      <td>53644</td>\n",
       "    </tr>\n",
       "    <tr>\n",
       "      <th>unique</th>\n",
       "      <td>49944</td>\n",
       "      <td>2344</td>\n",
       "      <td>25</td>\n",
       "      <td>537</td>\n",
       "      <td>49938</td>\n",
       "    </tr>\n",
       "    <tr>\n",
       "      <th>top</th>\n",
       "      <td>rn564592095</td>\n",
       "      <td>Reviewed 1 week ago</td>\n",
       "      <td>Patong</td>\n",
       "      <td>Da Mario</td>\n",
       "      <td>I have been to this restaurant several times f...</td>\n",
       "    </tr>\n",
       "    <tr>\n",
       "      <th>freq</th>\n",
       "      <td>10</td>\n",
       "      <td>616</td>\n",
       "      <td>16403</td>\n",
       "      <td>279</td>\n",
       "      <td>10</td>\n",
       "    </tr>\n",
       "  </tbody>\n",
       "</table>\n",
       "</div>"
      ],
      "text/plain": [
       "                 ID                  Date Location Hotel_Name  \\\n",
       "count         53644                 53644    53644      53644   \n",
       "unique        49944                  2344       25        537   \n",
       "top     rn564592095  Reviewed 1 week ago    Patong   Da Mario   \n",
       "freq             10                   616    16403        279   \n",
       "\n",
       "                                                   Review  \n",
       "count                                               53644  \n",
       "unique                                              49938  \n",
       "top     I have been to this restaurant several times f...  \n",
       "freq                                                   10  "
      ]
     },
     "execution_count": 14,
     "metadata": {},
     "output_type": "execute_result"
    }
   ],
   "source": [
    "reviewsA.describe()"
   ]
  },
  {
   "cell_type": "code",
   "execution_count": 15,
   "id": "c7c7f1fe",
   "metadata": {},
   "outputs": [
    {
     "name": "stdout",
     "output_type": "stream",
     "text": [
      "                      ID   Date  Hotel_Name  Review\n",
      "Location                                           \n",
      " Bang Tao Beach      600    600         600     600\n",
      " Cape Panwa         1500   1500        1500    1500\n",
      " Chalong            1287   1287        1287    1287\n",
      " Choeng Thale       3378   3378        3378    3378\n",
      " Kamala             3162   3162        3162    3162\n",
      " Karon              5826   5826        5826    5826\n",
      " Karon Beach         397    397         397     397\n",
      " Kata Beach         5752   5752        5752    5752\n",
      " Kata Noi Beach      200    200         200     200\n",
      " Kathu              1078   1078        1078    1078\n",
      " Koh Kaew            293    293         293     293\n",
      " Mai Khao           2372   2372        2372    2372\n",
      " Nai Harn            881    881         881     881\n",
      " Nai Thon             94     94          94      94\n",
      " Nai Yang            996    996         996     996\n",
      " Pa Khlok            100    100         100     100\n",
      " Patong            16403  16403       16403   16403\n",
      " Phuket Town        3356   3356        3356    3356\n",
      " Ratsada              98     98          98      98\n",
      " Rawai              3811   3811        3811    3811\n",
      " Sakhu                91     91          91      91\n",
      " Talat Nuea           97     97          97      97\n",
      " Talat Yai           300    300         300     300\n",
      " Thalang District   1177   1177        1177    1177\n",
      " Wichit              395    395         395     395\n"
     ]
    }
   ],
   "source": [
    "print(reviewsA.groupby(\"Location\").count())"
   ]
  },
  {
   "cell_type": "markdown",
   "id": "0dbb68f1",
   "metadata": {},
   "source": [
    "<b><font size=\"3\">Text Mining</font></b>"
   ]
  },
  {
   "cell_type": "markdown",
   "id": "66297229",
   "metadata": {},
   "source": [
    "<b><font size=\"3\">Top 15 Hotel/Restaurants from Phuket</font></b>"
   ]
  },
  {
   "cell_type": "code",
   "execution_count": 16,
   "id": "6a15ac97",
   "metadata": {},
   "outputs": [],
   "source": [
    "reviews = reviewsA[reviewsA['Location'].str.contains('Phuket Town')]\n",
    "hotels = [\"Eleven Two & Co.\", \"China Inn Cafe\", \"Surf and Turf by Soul Kitchen\", \"La Gaetana\", \"Rider Cafe\", \"Mr.Coffee\",\n",
    "          \"Dibuk restaurant\", \"Papaya\", \"Galerry Cafe by Pinky\", \"Crust\", \"Fuji Japanese Restaurant - Central Festival Phuket\",\n",
    "          \"Suay Restaurant\", \"Kopitiam by Wilai\", \"OSOT\", \"Blue Elephant Phuket\"]\n",
    "reviews = reviews[reviews.Hotel_Name.isin(hotels) == True]"
   ]
  },
  {
   "cell_type": "code",
   "execution_count": 17,
   "id": "6e8a281f",
   "metadata": {},
   "outputs": [
    {
     "data": {
      "text/html": [
       "<div>\n",
       "<style scoped>\n",
       "    .dataframe tbody tr th:only-of-type {\n",
       "        vertical-align: middle;\n",
       "    }\n",
       "\n",
       "    .dataframe tbody tr th {\n",
       "        vertical-align: top;\n",
       "    }\n",
       "\n",
       "    .dataframe thead th {\n",
       "        text-align: right;\n",
       "    }\n",
       "</style>\n",
       "<table border=\"1\" class=\"dataframe\">\n",
       "  <thead>\n",
       "    <tr style=\"text-align: right;\">\n",
       "      <th></th>\n",
       "      <th>ID</th>\n",
       "      <th>Date</th>\n",
       "      <th>Location</th>\n",
       "      <th>Hotel_Name</th>\n",
       "      <th>Review</th>\n",
       "    </tr>\n",
       "  </thead>\n",
       "  <tbody>\n",
       "    <tr>\n",
       "      <th>593</th>\n",
       "      <td>rn579710123</td>\n",
       "      <td>Reviewed 1 week ago</td>\n",
       "      <td>Phuket Town</td>\n",
       "      <td>Surf and Turf by Soul Kitchen</td>\n",
       "      <td>Wow! What a find true TripAdvisor, so happy to...</td>\n",
       "    </tr>\n",
       "    <tr>\n",
       "      <th>594</th>\n",
       "      <td>rn578870903</td>\n",
       "      <td>Reviewed 1 week ago</td>\n",
       "      <td>Phuket Town</td>\n",
       "      <td>Surf and Turf by Soul Kitchen</td>\n",
       "      <td>Best crossover Food i have ever had\\r\\nI was f...</td>\n",
       "    </tr>\n",
       "    <tr>\n",
       "      <th>595</th>\n",
       "      <td>rn576141183</td>\n",
       "      <td>Reviewed 3 weeks ago</td>\n",
       "      <td>Phuket Town</td>\n",
       "      <td>Surf and Turf by Soul Kitchen</td>\n",
       "      <td>Visited this restaurant based on the reviews b...</td>\n",
       "    </tr>\n",
       "    <tr>\n",
       "      <th>596</th>\n",
       "      <td>rn573849598</td>\n",
       "      <td>Reviewed 4 weeks ago</td>\n",
       "      <td>Phuket Town</td>\n",
       "      <td>Surf and Turf by Soul Kitchen</td>\n",
       "      <td>Me and my husband went for dinner here last ni...</td>\n",
       "    </tr>\n",
       "    <tr>\n",
       "      <th>597</th>\n",
       "      <td>rn572956411</td>\n",
       "      <td>Reviewed April 12, 2018</td>\n",
       "      <td>Phuket Town</td>\n",
       "      <td>Surf and Turf by Soul Kitchen</td>\n",
       "      <td>French chef! Really concerned with the quality...</td>\n",
       "    </tr>\n",
       "  </tbody>\n",
       "</table>\n",
       "</div>"
      ],
      "text/plain": [
       "              ID                      Date      Location  \\\n",
       "593  rn579710123      Reviewed 1 week ago    Phuket Town   \n",
       "594  rn578870903      Reviewed 1 week ago    Phuket Town   \n",
       "595  rn576141183     Reviewed 3 weeks ago    Phuket Town   \n",
       "596  rn573849598     Reviewed 4 weeks ago    Phuket Town   \n",
       "597  rn572956411  Reviewed April 12, 2018    Phuket Town   \n",
       "\n",
       "                        Hotel_Name  \\\n",
       "593  Surf and Turf by Soul Kitchen   \n",
       "594  Surf and Turf by Soul Kitchen   \n",
       "595  Surf and Turf by Soul Kitchen   \n",
       "596  Surf and Turf by Soul Kitchen   \n",
       "597  Surf and Turf by Soul Kitchen   \n",
       "\n",
       "                                                Review  \n",
       "593  Wow! What a find true TripAdvisor, so happy to...  \n",
       "594  Best crossover Food i have ever had\\r\\nI was f...  \n",
       "595  Visited this restaurant based on the reviews b...  \n",
       "596  Me and my husband went for dinner here last ni...  \n",
       "597  French chef! Really concerned with the quality...  "
      ]
     },
     "execution_count": 17,
     "metadata": {},
     "output_type": "execute_result"
    }
   ],
   "source": [
    "reviews.head()"
   ]
  },
  {
   "cell_type": "code",
   "execution_count": 18,
   "id": "1f0403ae",
   "metadata": {},
   "outputs": [
    {
     "data": {
      "text/html": [
       "<div>\n",
       "<style scoped>\n",
       "    .dataframe tbody tr th:only-of-type {\n",
       "        vertical-align: middle;\n",
       "    }\n",
       "\n",
       "    .dataframe tbody tr th {\n",
       "        vertical-align: top;\n",
       "    }\n",
       "\n",
       "    .dataframe thead th {\n",
       "        text-align: right;\n",
       "    }\n",
       "</style>\n",
       "<table border=\"1\" class=\"dataframe\">\n",
       "  <thead>\n",
       "    <tr style=\"text-align: right;\">\n",
       "      <th></th>\n",
       "      <th>ID</th>\n",
       "      <th>Date</th>\n",
       "      <th>Location</th>\n",
       "      <th>Hotel_Name</th>\n",
       "      <th>Review</th>\n",
       "    </tr>\n",
       "  </thead>\n",
       "  <tbody>\n",
       "    <tr>\n",
       "      <th>45543</th>\n",
       "      <td>rn529280390</td>\n",
       "      <td>Reviewed October 2, 2017</td>\n",
       "      <td>Phuket Town</td>\n",
       "      <td>Fuji Japanese Restaurant - Central Festival Ph...</td>\n",
       "      <td>Great menu , good prices and pleasant service ...</td>\n",
       "    </tr>\n",
       "    <tr>\n",
       "      <th>45544</th>\n",
       "      <td>rn512997697</td>\n",
       "      <td>Reviewed August 14, 2017</td>\n",
       "      <td>Phuket Town</td>\n",
       "      <td>Fuji Japanese Restaurant - Central Festival Ph...</td>\n",
       "      <td>The price here was quite higher than other Tha...</td>\n",
       "    </tr>\n",
       "    <tr>\n",
       "      <th>45545</th>\n",
       "      <td>rn508813466</td>\n",
       "      <td>Reviewed August 4, 2017</td>\n",
       "      <td>Phuket Town</td>\n",
       "      <td>Fuji Japanese Restaurant - Central Festival Ph...</td>\n",
       "      <td>I've stayed close to Central Festival a few ti...</td>\n",
       "    </tr>\n",
       "    <tr>\n",
       "      <th>45546</th>\n",
       "      <td>rn499546415</td>\n",
       "      <td>Reviewed July 7, 2017</td>\n",
       "      <td>Phuket Town</td>\n",
       "      <td>Fuji Japanese Restaurant - Central Festival Ph...</td>\n",
       "      <td>A well established and frequented Japanese res...</td>\n",
       "    </tr>\n",
       "    <tr>\n",
       "      <th>45547</th>\n",
       "      <td>rn491968050</td>\n",
       "      <td>Reviewed June 10, 2017</td>\n",
       "      <td>Phuket Town</td>\n",
       "      <td>Fuji Japanese Restaurant - Central Festival Ph...</td>\n",
       "      <td>This was a good spot for a date night out.\\r\\n...</td>\n",
       "    </tr>\n",
       "  </tbody>\n",
       "</table>\n",
       "</div>"
      ],
      "text/plain": [
       "                ID                       Date      Location  \\\n",
       "45543  rn529280390  Reviewed October 2, 2017    Phuket Town   \n",
       "45544  rn512997697  Reviewed August 14, 2017    Phuket Town   \n",
       "45545  rn508813466   Reviewed August 4, 2017    Phuket Town   \n",
       "45546  rn499546415     Reviewed July 7, 2017    Phuket Town   \n",
       "45547  rn491968050    Reviewed June 10, 2017    Phuket Town   \n",
       "\n",
       "                                              Hotel_Name  \\\n",
       "45543  Fuji Japanese Restaurant - Central Festival Ph...   \n",
       "45544  Fuji Japanese Restaurant - Central Festival Ph...   \n",
       "45545  Fuji Japanese Restaurant - Central Festival Ph...   \n",
       "45546  Fuji Japanese Restaurant - Central Festival Ph...   \n",
       "45547  Fuji Japanese Restaurant - Central Festival Ph...   \n",
       "\n",
       "                                                  Review  \n",
       "45543  Great menu , good prices and pleasant service ...  \n",
       "45544  The price here was quite higher than other Tha...  \n",
       "45545  I've stayed close to Central Festival a few ti...  \n",
       "45546  A well established and frequented Japanese res...  \n",
       "45547  This was a good spot for a date night out.\\r\\n...  "
      ]
     },
     "execution_count": 18,
     "metadata": {},
     "output_type": "execute_result"
    }
   ],
   "source": [
    "reviews.tail()"
   ]
  },
  {
   "cell_type": "code",
   "execution_count": 19,
   "id": "e4177bee",
   "metadata": {},
   "outputs": [
    {
     "name": "stdout",
     "output_type": "stream",
     "text": [
      "                ID  Date  Hotel_Name  Review\n",
      "Location                                    \n",
      " Phuket Town  1394  1394        1394    1394\n"
     ]
    }
   ],
   "source": [
    "print(reviews.groupby(\"Location\").count())"
   ]
  },
  {
   "cell_type": "code",
   "execution_count": 20,
   "id": "009e36a4",
   "metadata": {},
   "outputs": [
    {
     "name": "stdout",
     "output_type": "stream",
     "text": [
      "                                                     ID  Date  Location  \\\n",
      "Hotel_Name                                                                \n",
      "Blue Elephant Phuket                                100   100       100   \n",
      "China Inn Cafe                                       99    99        99   \n",
      "Crust                                               100   100       100   \n",
      "Dibuk restaurant                                     95    95        95   \n",
      "Eleven Two & Co.                                    100   100       100   \n",
      "Fuji Japanese Restaurant - Central Festival Phuket  100   100       100   \n",
      "Kopitiam by Wilai                                   100   100       100   \n",
      "La Gaetana                                          100   100       100   \n",
      "Mr.Coffee                                           100   100       100   \n",
      "OSOT                                                100   100       100   \n",
      "Papaya                                              100   100       100   \n",
      "Rider Cafe                                          100   100       100   \n",
      "Suay Restaurant                                     100   100       100   \n",
      "Surf and Turf by Soul Kitchen                       100   100       100   \n",
      "\n",
      "                                                    Review  \n",
      "Hotel_Name                                                  \n",
      "Blue Elephant Phuket                                   100  \n",
      "China Inn Cafe                                          99  \n",
      "Crust                                                  100  \n",
      "Dibuk restaurant                                        95  \n",
      "Eleven Two & Co.                                       100  \n",
      "Fuji Japanese Restaurant - Central Festival Phuket     100  \n",
      "Kopitiam by Wilai                                      100  \n",
      "La Gaetana                                             100  \n",
      "Mr.Coffee                                              100  \n",
      "OSOT                                                   100  \n",
      "Papaya                                                 100  \n",
      "Rider Cafe                                             100  \n",
      "Suay Restaurant                                        100  \n",
      "Surf and Turf by Soul Kitchen                          100  \n"
     ]
    }
   ],
   "source": [
    "print(reviews.groupby(\"Hotel_Name\").count())"
   ]
  },
  {
   "cell_type": "code",
   "execution_count": 21,
   "id": "6206cd24",
   "metadata": {},
   "outputs": [
    {
     "data": {
      "text/html": [
       "<div>\n",
       "<style scoped>\n",
       "    .dataframe tbody tr th:only-of-type {\n",
       "        vertical-align: middle;\n",
       "    }\n",
       "\n",
       "    .dataframe tbody tr th {\n",
       "        vertical-align: top;\n",
       "    }\n",
       "\n",
       "    .dataframe thead th {\n",
       "        text-align: right;\n",
       "    }\n",
       "</style>\n",
       "<table border=\"1\" class=\"dataframe\">\n",
       "  <thead>\n",
       "    <tr style=\"text-align: right;\">\n",
       "      <th></th>\n",
       "      <th>ID</th>\n",
       "      <th>Date</th>\n",
       "      <th>Location</th>\n",
       "      <th>Hotel_Name</th>\n",
       "      <th>Review</th>\n",
       "    </tr>\n",
       "  </thead>\n",
       "  <tbody>\n",
       "    <tr>\n",
       "      <th>593</th>\n",
       "      <td>rn579710123</td>\n",
       "      <td>Reviewed 1 week ago</td>\n",
       "      <td>Phuket Town</td>\n",
       "      <td>Surf and Turf by Soul Kitchen</td>\n",
       "      <td>[wow, find, true, tripadvisor, happi, chanc, d...</td>\n",
       "    </tr>\n",
       "    <tr>\n",
       "      <th>594</th>\n",
       "      <td>rn578870903</td>\n",
       "      <td>Reviewed 1 week ago</td>\n",
       "      <td>Phuket Town</td>\n",
       "      <td>Surf and Turf by Soul Kitchen</td>\n",
       "      <td>[best, crossov, food, ever, fulli, satisfi, on...</td>\n",
       "    </tr>\n",
       "    <tr>\n",
       "      <th>595</th>\n",
       "      <td>rn576141183</td>\n",
       "      <td>Reviewed 3 weeks ago</td>\n",
       "      <td>Phuket Town</td>\n",
       "      <td>Surf and Turf by Soul Kitchen</td>\n",
       "      <td>[visit, restaur, base, review, ta, order, beef...</td>\n",
       "    </tr>\n",
       "    <tr>\n",
       "      <th>596</th>\n",
       "      <td>rn573849598</td>\n",
       "      <td>Reviewed 4 weeks ago</td>\n",
       "      <td>Phuket Town</td>\n",
       "      <td>Surf and Turf by Soul Kitchen</td>\n",
       "      <td>[husband, went, dinner, last, night, pleas, fo...</td>\n",
       "    </tr>\n",
       "    <tr>\n",
       "      <th>597</th>\n",
       "      <td>rn572956411</td>\n",
       "      <td>Reviewed April 12, 2018</td>\n",
       "      <td>Phuket Town</td>\n",
       "      <td>Surf and Turf by Soul Kitchen</td>\n",
       "      <td>[french, chef, realli, concern, qualiti, dish,...</td>\n",
       "    </tr>\n",
       "  </tbody>\n",
       "</table>\n",
       "</div>"
      ],
      "text/plain": [
       "              ID                      Date      Location  \\\n",
       "593  rn579710123      Reviewed 1 week ago    Phuket Town   \n",
       "594  rn578870903      Reviewed 1 week ago    Phuket Town   \n",
       "595  rn576141183     Reviewed 3 weeks ago    Phuket Town   \n",
       "596  rn573849598     Reviewed 4 weeks ago    Phuket Town   \n",
       "597  rn572956411  Reviewed April 12, 2018    Phuket Town   \n",
       "\n",
       "                        Hotel_Name  \\\n",
       "593  Surf and Turf by Soul Kitchen   \n",
       "594  Surf and Turf by Soul Kitchen   \n",
       "595  Surf and Turf by Soul Kitchen   \n",
       "596  Surf and Turf by Soul Kitchen   \n",
       "597  Surf and Turf by Soul Kitchen   \n",
       "\n",
       "                                                Review  \n",
       "593  [wow, find, true, tripadvisor, happi, chanc, d...  \n",
       "594  [best, crossov, food, ever, fulli, satisfi, on...  \n",
       "595  [visit, restaur, base, review, ta, order, beef...  \n",
       "596  [husband, went, dinner, last, night, pleas, fo...  \n",
       "597  [french, chef, realli, concern, qualiti, dish,...  "
      ]
     },
     "execution_count": 21,
     "metadata": {},
     "output_type": "execute_result"
    }
   ],
   "source": [
    "reviews['Review'] = reviews['Review'].apply(preprocess_text)\n",
    "reviews.head()"
   ]
  },
  {
   "cell_type": "code",
   "execution_count": 22,
   "id": "db58a444",
   "metadata": {},
   "outputs": [
    {
     "data": {
      "text/html": [
       "<div>\n",
       "<style scoped>\n",
       "    .dataframe tbody tr th:only-of-type {\n",
       "        vertical-align: middle;\n",
       "    }\n",
       "\n",
       "    .dataframe tbody tr th {\n",
       "        vertical-align: top;\n",
       "    }\n",
       "\n",
       "    .dataframe thead th {\n",
       "        text-align: right;\n",
       "    }\n",
       "</style>\n",
       "<table border=\"1\" class=\"dataframe\">\n",
       "  <thead>\n",
       "    <tr style=\"text-align: right;\">\n",
       "      <th></th>\n",
       "      <th>00</th>\n",
       "      <th>0080</th>\n",
       "      <th>0081</th>\n",
       "      <th>0082</th>\n",
       "      <th>0083</th>\n",
       "      <th>0085</th>\n",
       "      <th>0089</th>\n",
       "      <th>008a</th>\n",
       "      <th>008b</th>\n",
       "      <th>008c</th>\n",
       "      <th>...</th>\n",
       "      <th>york</th>\n",
       "      <th>young</th>\n",
       "      <th>your</th>\n",
       "      <th>youself</th>\n",
       "      <th>yum</th>\n",
       "      <th>yummi</th>\n",
       "      <th>yummiest</th>\n",
       "      <th>zealand</th>\n",
       "      <th>zero</th>\n",
       "      <th>zz</th>\n",
       "    </tr>\n",
       "  </thead>\n",
       "  <tbody>\n",
       "    <tr>\n",
       "      <th>0</th>\n",
       "      <td>0</td>\n",
       "      <td>0</td>\n",
       "      <td>0</td>\n",
       "      <td>0</td>\n",
       "      <td>0</td>\n",
       "      <td>0</td>\n",
       "      <td>0</td>\n",
       "      <td>0</td>\n",
       "      <td>0</td>\n",
       "      <td>0</td>\n",
       "      <td>...</td>\n",
       "      <td>0</td>\n",
       "      <td>0</td>\n",
       "      <td>0</td>\n",
       "      <td>0</td>\n",
       "      <td>0</td>\n",
       "      <td>0</td>\n",
       "      <td>0</td>\n",
       "      <td>0</td>\n",
       "      <td>0</td>\n",
       "      <td>0</td>\n",
       "    </tr>\n",
       "    <tr>\n",
       "      <th>1</th>\n",
       "      <td>0</td>\n",
       "      <td>0</td>\n",
       "      <td>0</td>\n",
       "      <td>0</td>\n",
       "      <td>0</td>\n",
       "      <td>0</td>\n",
       "      <td>0</td>\n",
       "      <td>0</td>\n",
       "      <td>0</td>\n",
       "      <td>0</td>\n",
       "      <td>...</td>\n",
       "      <td>0</td>\n",
       "      <td>0</td>\n",
       "      <td>0</td>\n",
       "      <td>0</td>\n",
       "      <td>0</td>\n",
       "      <td>0</td>\n",
       "      <td>0</td>\n",
       "      <td>0</td>\n",
       "      <td>0</td>\n",
       "      <td>0</td>\n",
       "    </tr>\n",
       "    <tr>\n",
       "      <th>2</th>\n",
       "      <td>0</td>\n",
       "      <td>0</td>\n",
       "      <td>0</td>\n",
       "      <td>0</td>\n",
       "      <td>0</td>\n",
       "      <td>0</td>\n",
       "      <td>0</td>\n",
       "      <td>0</td>\n",
       "      <td>0</td>\n",
       "      <td>0</td>\n",
       "      <td>...</td>\n",
       "      <td>0</td>\n",
       "      <td>0</td>\n",
       "      <td>0</td>\n",
       "      <td>0</td>\n",
       "      <td>0</td>\n",
       "      <td>0</td>\n",
       "      <td>0</td>\n",
       "      <td>0</td>\n",
       "      <td>0</td>\n",
       "      <td>0</td>\n",
       "    </tr>\n",
       "    <tr>\n",
       "      <th>3</th>\n",
       "      <td>0</td>\n",
       "      <td>0</td>\n",
       "      <td>0</td>\n",
       "      <td>0</td>\n",
       "      <td>0</td>\n",
       "      <td>0</td>\n",
       "      <td>0</td>\n",
       "      <td>0</td>\n",
       "      <td>0</td>\n",
       "      <td>0</td>\n",
       "      <td>...</td>\n",
       "      <td>0</td>\n",
       "      <td>0</td>\n",
       "      <td>0</td>\n",
       "      <td>0</td>\n",
       "      <td>0</td>\n",
       "      <td>0</td>\n",
       "      <td>0</td>\n",
       "      <td>0</td>\n",
       "      <td>0</td>\n",
       "      <td>0</td>\n",
       "    </tr>\n",
       "    <tr>\n",
       "      <th>4</th>\n",
       "      <td>0</td>\n",
       "      <td>0</td>\n",
       "      <td>0</td>\n",
       "      <td>0</td>\n",
       "      <td>0</td>\n",
       "      <td>0</td>\n",
       "      <td>0</td>\n",
       "      <td>0</td>\n",
       "      <td>0</td>\n",
       "      <td>0</td>\n",
       "      <td>...</td>\n",
       "      <td>0</td>\n",
       "      <td>0</td>\n",
       "      <td>0</td>\n",
       "      <td>0</td>\n",
       "      <td>0</td>\n",
       "      <td>0</td>\n",
       "      <td>0</td>\n",
       "      <td>0</td>\n",
       "      <td>0</td>\n",
       "      <td>0</td>\n",
       "    </tr>\n",
       "  </tbody>\n",
       "</table>\n",
       "<p>5 rows × 3095 columns</p>\n",
       "</div>"
      ],
      "text/plain": [
       "   00  0080  0081  0082  0083  0085  0089  008a  008b  008c  ...  york  young  \\\n",
       "0   0     0     0     0     0     0     0     0     0     0  ...     0      0   \n",
       "1   0     0     0     0     0     0     0     0     0     0  ...     0      0   \n",
       "2   0     0     0     0     0     0     0     0     0     0  ...     0      0   \n",
       "3   0     0     0     0     0     0     0     0     0     0  ...     0      0   \n",
       "4   0     0     0     0     0     0     0     0     0     0  ...     0      0   \n",
       "\n",
       "   your  youself  yum  yummi  yummiest  zealand  zero  zz  \n",
       "0     0        0    0      0         0        0     0   0  \n",
       "1     0        0    0      0         0        0     0   0  \n",
       "2     0        0    0      0         0        0     0   0  \n",
       "3     0        0    0      0         0        0     0   0  \n",
       "4     0        0    0      0         0        0     0   0  \n",
       "\n",
       "[5 rows x 3095 columns]"
      ]
     },
     "execution_count": 22,
     "metadata": {},
     "output_type": "execute_result"
    }
   ],
   "source": [
    "vectorizer = CountVectorizer()\n",
    "\n",
    "X = vectorizer.fit_transform(reviews['Review'].map(' '.join))\n",
    "X = pd.DataFrame(X.toarray(), columns = vectorizer.get_feature_names_out())\n",
    "\n",
    "X.head()"
   ]
  },
  {
   "cell_type": "code",
   "execution_count": 23,
   "id": "7bf8c7b6",
   "metadata": {},
   "outputs": [],
   "source": [
    "y = reviews['Hotel_Name']\n",
    "\n",
    "X_train, X_test, y_train, y_test = train_test_split(\n",
    "    X, y, train_size = 0.7, test_size = 0.3, random_state = 1)"
   ]
  },
  {
   "cell_type": "code",
   "execution_count": 24,
   "id": "0c982182",
   "metadata": {},
   "outputs": [
    {
     "data": {
      "text/plain": [
       "[Text(0, 0, 'Blue Elephant Phuket'),\n",
       " Text(1, 0, 'China Inn Cafe'),\n",
       " Text(2, 0, 'Crust'),\n",
       " Text(3, 0, 'Dibuk restaurant'),\n",
       " Text(4, 0, 'Eleven Two & Co.'),\n",
       " Text(5, 0, 'Fuji Japanese Restaurant - Central Festival Phuket'),\n",
       " Text(6, 0, 'Kopitiam by Wilai'),\n",
       " Text(7, 0, 'La Gaetana'),\n",
       " Text(8, 0, 'Mr.Coffee'),\n",
       " Text(9, 0, 'OSOT'),\n",
       " Text(10, 0, 'Papaya'),\n",
       " Text(11, 0, 'Rider Cafe'),\n",
       " Text(12, 0, 'Suay Restaurant'),\n",
       " Text(13, 0, 'Surf and Turf by Soul Kitchen')]"
      ]
     },
     "execution_count": 24,
     "metadata": {},
     "output_type": "execute_result"
    },
    {
     "data": {
      "image/png": "[encoded data removed]",
      "text/plain": [
       "<Figure size 432x288 with 1 Axes>"
      ]
     },
     "metadata": {
      "needs_background": "light"
     },
     "output_type": "display_data"
    }
   ],
   "source": [
    "resampler = RandomUnderSampler(random_state = 1)\n",
    "X_train_undersampled, y_train_undersampled = resampler.fit_resample(X_train, y_train)\n",
    "\n",
    "chart = sns.countplot(x=y_train_undersampled)\n",
    "chart.set_xticklabels(chart.get_xticklabels(), rotation=90)"
   ]
  },
  {
   "cell_type": "code",
   "execution_count": 25,
   "id": "e2bddb75",
   "metadata": {},
   "outputs": [
    {
     "data": {
      "text/html": [
       "<style>#sk-container-id-1 {color: black;background-color: white;}#sk-container-id-1 pre{padding: 0;}#sk-container-id-1 div.sk-toggleable {background-color: white;}#sk-container-id-1 label.sk-toggleable__label {cursor: pointer;display: block;width: 100%;margin-bottom: 0;padding: 0.3em;box-sizing: border-box;text-align: center;}#sk-container-id-1 label.sk-toggleable__label-arrow:before {content: \"▸\";float: left;margin-right: 0.25em;color: #696969;}#sk-container-id-1 label.sk-toggleable__label-arrow:hover:before {color: black;}#sk-container-id-1 div.sk-estimator:hover label.sk-toggleable__label-arrow:before {color: black;}#sk-container-id-1 div.sk-toggleable__content {max-height: 0;max-width: 0;overflow: hidden;text-align: left;background-color: #f0f8ff;}#sk-container-id-1 div.sk-toggleable__content pre {margin: 0.2em;color: black;border-radius: 0.25em;background-color: #f0f8ff;}#sk-container-id-1 input.sk-toggleable__control:checked~div.sk-toggleable__content {max-height: 200px;max-width: 100%;overflow: auto;}#sk-container-id-1 input.sk-toggleable__control:checked~label.sk-toggleable__label-arrow:before {content: \"▾\";}#sk-container-id-1 div.sk-estimator input.sk-toggleable__control:checked~label.sk-toggleable__label {background-color: #d4ebff;}#sk-container-id-1 div.sk-label input.sk-toggleable__control:checked~label.sk-toggleable__label {background-color: #d4ebff;}#sk-container-id-1 input.sk-hidden--visually {border: 0;clip: rect(1px 1px 1px 1px);clip: rect(1px, 1px, 1px, 1px);height: 1px;margin: -1px;overflow: hidden;padding: 0;position: absolute;width: 1px;}#sk-container-id-1 div.sk-estimator {font-family: monospace;background-color: #f0f8ff;border: 1px dotted black;border-radius: 0.25em;box-sizing: border-box;margin-bottom: 0.5em;}#sk-container-id-1 div.sk-estimator:hover {background-color: #d4ebff;}#sk-container-id-1 div.sk-parallel-item::after {content: \"\";width: 100%;border-bottom: 1px solid gray;flex-grow: 1;}#sk-container-id-1 div.sk-label:hover label.sk-toggleable__label {background-color: #d4ebff;}#sk-container-id-1 div.sk-serial::before {content: \"\";position: absolute;border-left: 1px solid gray;box-sizing: border-box;top: 0;bottom: 0;left: 50%;z-index: 0;}#sk-container-id-1 div.sk-serial {display: flex;flex-direction: column;align-items: center;background-color: white;padding-right: 0.2em;padding-left: 0.2em;position: relative;}#sk-container-id-1 div.sk-item {position: relative;z-index: 1;}#sk-container-id-1 div.sk-parallel {display: flex;align-items: stretch;justify-content: center;background-color: white;position: relative;}#sk-container-id-1 div.sk-item::before, #sk-container-id-1 div.sk-parallel-item::before {content: \"\";position: absolute;border-left: 1px solid gray;box-sizing: border-box;top: 0;bottom: 0;left: 50%;z-index: -1;}#sk-container-id-1 div.sk-parallel-item {display: flex;flex-direction: column;z-index: 1;position: relative;background-color: white;}#sk-container-id-1 div.sk-parallel-item:first-child::after {align-self: flex-end;width: 50%;}#sk-container-id-1 div.sk-parallel-item:last-child::after {align-self: flex-start;width: 50%;}#sk-container-id-1 div.sk-parallel-item:only-child::after {width: 0;}#sk-container-id-1 div.sk-dashed-wrapped {border: 1px dashed gray;margin: 0 0.4em 0.5em 0.4em;box-sizing: border-box;padding-bottom: 0.4em;background-color: white;}#sk-container-id-1 div.sk-label label {font-family: monospace;font-weight: bold;display: inline-block;line-height: 1.2em;}#sk-container-id-1 div.sk-label-container {text-align: center;}#sk-container-id-1 div.sk-container {/* jupyter's `normalize.less` sets `[hidden] { display: none; }` but bootstrap.min.css set `[hidden] { display: none !important; }` so we also need the `!important` here to be able to override the default hidden behavior on the sphinx rendered scikit-learn.org. See: https://github.com/scikit-learn/scikit-learn/issues/21755 */display: inline-block !important;position: relative;}#sk-container-id-1 div.sk-text-repr-fallback {display: none;}</style><div id=\"sk-container-id-1\" class=\"sk-top-container\"><div class=\"sk-text-repr-fallback\"><pre>MultinomialNB()</pre><b>In a Jupyter environment, please rerun this cell to show the HTML representation or trust the notebook. <br />On GitHub, the HTML representation is unable to render, please try loading this page with nbviewer.org.</b></div><div class=\"sk-container\" hidden><div class=\"sk-item\"><div class=\"sk-estimator sk-toggleable\"><input class=\"sk-toggleable__control sk-hidden--visually\" id=\"sk-estimator-id-1\" type=\"checkbox\" checked><label for=\"sk-estimator-id-1\" class=\"sk-toggleable__label sk-toggleable__label-arrow\">MultinomialNB</label><div class=\"sk-toggleable__content\"><pre>MultinomialNB()</pre></div></div></div></div></div>"
      ],
      "text/plain": [
       "MultinomialNB()"
      ]
     },
     "execution_count": 25,
     "metadata": {},
     "output_type": "execute_result"
    }
   ],
   "source": [
    "model = MultinomialNB()\n",
    "model.fit(X_train_undersampled, y_train_undersampled)"
   ]
  },
  {
   "cell_type": "code",
   "execution_count": 26,
   "id": "ad3cb74c",
   "metadata": {},
   "outputs": [
    {
     "name": "stdout",
     "output_type": "stream",
     "text": [
      "Accuracy: 0.54\n"
     ]
    }
   ],
   "source": [
    "y_pred = model.predict(X_test)\n",
    "acc = metrics.accuracy_score(y_test, y_pred)\n",
    "print('Accuracy: %.2f'%(acc))"
   ]
  },
  {
   "cell_type": "code",
   "execution_count": 27,
   "id": "39d2fb21",
   "metadata": {},
   "outputs": [
    {
     "data": {
      "image/png": "[encoded data removed]",
      "text/plain": [
       "<Figure size 864x864 with 2 Axes>"
      ]
     },
     "metadata": {
      "needs_background": "light"
     },
     "output_type": "display_data"
    }
   ],
   "source": [
    "plt.figure(figsize=(12, 12))\n",
    "sns.heatmap(confusion_matrix(y_test, y_pred), cmap='flare', annot=True, fmt='d')\n",
    "plt.xlabel(\"Predicted Class\", fontsize=12) \n",
    "plt.ylabel(\"True Class\", fontsize=12) \n",
    "plt.title('Text Mining Confusion Matrix')\n",
    "plt.show()"
   ]
  },
  {
   "cell_type": "code",
   "execution_count": 28,
   "id": "93754699",
   "metadata": {},
   "outputs": [
    {
     "name": "stdout",
     "output_type": "stream",
     "text": [
      "Classification Report:\n",
      "\n",
      "                                                    precision    recall  f1-score   support\n",
      "\n",
      "                              Blue Elephant Phuket       0.76      0.50      0.60        32\n",
      "                                    China Inn Cafe       0.53      0.46      0.49        37\n",
      "                                             Crust       0.53      0.54      0.53        37\n",
      "                                  Dibuk restaurant       0.42      0.56      0.48        18\n",
      "                                  Eleven Two & Co.       0.44      0.40      0.42        30\n",
      "Fuji Japanese Restaurant - Central Festival Phuket       0.86      0.86      0.86        22\n",
      "                                 Kopitiam by Wilai       0.33      0.23      0.27        31\n",
      "                                        La Gaetana       0.58      0.64      0.61        33\n",
      "                                         Mr.Coffee       0.75      0.86      0.80        28\n",
      "                                              OSOT       0.53      0.58      0.55        36\n",
      "                                            Papaya       0.51      0.80      0.62        25\n",
      "                                        Rider Cafe       0.46      0.53      0.49        30\n",
      "                                   Suay Restaurant       0.33      0.35      0.34        26\n",
      "                     Surf and Turf by Soul Kitchen       0.60      0.44      0.51        34\n",
      "\n",
      "                                          accuracy                           0.54       419\n",
      "                                         macro avg       0.55      0.55      0.54       419\n",
      "                                      weighted avg       0.55      0.54      0.54       419\n",
      "\n"
     ]
    }
   ],
   "source": [
    "result = metrics.classification_report(y_test, y_pred)\n",
    "print(\"Classification Report:\\n\",)\n",
    "print(result)"
   ]
  },
  {
   "cell_type": "markdown",
   "id": "0901429a",
   "metadata": {},
   "source": [
    "<b><font size=\"3\">Top 15 Hotel/Restaurants from Choeng</font></b>"
   ]
  },
  {
   "cell_type": "code",
   "execution_count": 29,
   "id": "616c14bf",
   "metadata": {},
   "outputs": [],
   "source": [
    "reviews = reviewsB[reviewsB['Location'].str.contains('Choeng Thale')]\n",
    "hotels = [\"Siam Supper Club\", \"Red Tuna Restaurant Phuket\", \"The Corner Restaurant\", \"Dee Plee - Anantara Layan Phuket Resort\",\n",
    "         \"Bampot Kitchen & Bar\", \"The Beach Cuisine\", \"DeDos\", \"Golden Paradise Restaurant\", \"KEE Sky Lounge & Restaurant\",\n",
    "         \"360 ° Bar\", \"Benny's American Bar & Grill\", \"Nok and Jo's Restaurant\", \"Audy Restaurant\", \"Ann's Kitchen Bar and Grill\",\n",
    "         \"Taste Bar & Grill\"]\n",
    "reviews = reviews[reviews.Hotel_Name.isin(hotels) == True]"
   ]
  },
  {
   "cell_type": "code",
   "execution_count": 30,
   "id": "70fd31ef",
   "metadata": {},
   "outputs": [
    {
     "data": {
      "text/html": [
       "<div>\n",
       "<style scoped>\n",
       "    .dataframe tbody tr th:only-of-type {\n",
       "        vertical-align: middle;\n",
       "    }\n",
       "\n",
       "    .dataframe tbody tr th {\n",
       "        vertical-align: top;\n",
       "    }\n",
       "\n",
       "    .dataframe thead th {\n",
       "        text-align: right;\n",
       "    }\n",
       "</style>\n",
       "<table border=\"1\" class=\"dataframe\">\n",
       "  <thead>\n",
       "    <tr style=\"text-align: right;\">\n",
       "      <th></th>\n",
       "      <th>ID</th>\n",
       "      <th>Date</th>\n",
       "      <th>Location</th>\n",
       "      <th>Hotel_Name</th>\n",
       "      <th>Review</th>\n",
       "    </tr>\n",
       "  </thead>\n",
       "  <tbody>\n",
       "    <tr>\n",
       "      <th>300</th>\n",
       "      <td>rn580036469</td>\n",
       "      <td>Reviewed 1 week ago</td>\n",
       "      <td>Choeng Thale</td>\n",
       "      <td>Dee Plee - Anantara Layan Phuket Resort</td>\n",
       "      <td>The view and Thai food served at Dee Plee are ...</td>\n",
       "    </tr>\n",
       "    <tr>\n",
       "      <th>301</th>\n",
       "      <td>rn580019506</td>\n",
       "      <td>Reviewed 1 week ago</td>\n",
       "      <td>Choeng Thale</td>\n",
       "      <td>Dee Plee - Anantara Layan Phuket Resort</td>\n",
       "      <td>We celebrated our honeymoon at Anantara and tr...</td>\n",
       "    </tr>\n",
       "    <tr>\n",
       "      <th>302</th>\n",
       "      <td>rn577321057</td>\n",
       "      <td>Reviewed 2 weeks ago</td>\n",
       "      <td>Choeng Thale</td>\n",
       "      <td>Dee Plee - Anantara Layan Phuket Resort</td>\n",
       "      <td>Great Thai Food with and amazing View and Frie...</td>\n",
       "    </tr>\n",
       "    <tr>\n",
       "      <th>303</th>\n",
       "      <td>rn577073620</td>\n",
       "      <td>Reviewed 2 weeks ago</td>\n",
       "      <td>Choeng Thale</td>\n",
       "      <td>Dee Plee - Anantara Layan Phuket Resort</td>\n",
       "      <td>Was occasionally in this place! Despite it was...</td>\n",
       "    </tr>\n",
       "    <tr>\n",
       "      <th>304</th>\n",
       "      <td>rn576749505</td>\n",
       "      <td>Reviewed 2 weeks ago</td>\n",
       "      <td>Choeng Thale</td>\n",
       "      <td>Dee Plee - Anantara Layan Phuket Resort</td>\n",
       "      <td>Dee Plee is the Signature Thai restaurant of t...</td>\n",
       "    </tr>\n",
       "  </tbody>\n",
       "</table>\n",
       "</div>"
      ],
      "text/plain": [
       "              ID                   Date       Location  \\\n",
       "300  rn580036469   Reviewed 1 week ago    Choeng Thale   \n",
       "301  rn580019506   Reviewed 1 week ago    Choeng Thale   \n",
       "302  rn577321057  Reviewed 2 weeks ago    Choeng Thale   \n",
       "303  rn577073620  Reviewed 2 weeks ago    Choeng Thale   \n",
       "304  rn576749505  Reviewed 2 weeks ago    Choeng Thale   \n",
       "\n",
       "                                  Hotel_Name  \\\n",
       "300  Dee Plee - Anantara Layan Phuket Resort   \n",
       "301  Dee Plee - Anantara Layan Phuket Resort   \n",
       "302  Dee Plee - Anantara Layan Phuket Resort   \n",
       "303  Dee Plee - Anantara Layan Phuket Resort   \n",
       "304  Dee Plee - Anantara Layan Phuket Resort   \n",
       "\n",
       "                                                Review  \n",
       "300  The view and Thai food served at Dee Plee are ...  \n",
       "301  We celebrated our honeymoon at Anantara and tr...  \n",
       "302  Great Thai Food with and amazing View and Frie...  \n",
       "303  Was occasionally in this place! Despite it was...  \n",
       "304  Dee Plee is the Signature Thai restaurant of t...  "
      ]
     },
     "execution_count": 30,
     "metadata": {},
     "output_type": "execute_result"
    }
   ],
   "source": [
    "reviews.head()"
   ]
  },
  {
   "cell_type": "code",
   "execution_count": 31,
   "id": "57414612",
   "metadata": {},
   "outputs": [
    {
     "data": {
      "text/html": [
       "<div>\n",
       "<style scoped>\n",
       "    .dataframe tbody tr th:only-of-type {\n",
       "        vertical-align: middle;\n",
       "    }\n",
       "\n",
       "    .dataframe tbody tr th {\n",
       "        vertical-align: top;\n",
       "    }\n",
       "\n",
       "    .dataframe thead th {\n",
       "        text-align: right;\n",
       "    }\n",
       "</style>\n",
       "<table border=\"1\" class=\"dataframe\">\n",
       "  <thead>\n",
       "    <tr style=\"text-align: right;\">\n",
       "      <th></th>\n",
       "      <th>ID</th>\n",
       "      <th>Date</th>\n",
       "      <th>Location</th>\n",
       "      <th>Hotel_Name</th>\n",
       "      <th>Review</th>\n",
       "    </tr>\n",
       "  </thead>\n",
       "  <tbody>\n",
       "    <tr>\n",
       "      <th>33992</th>\n",
       "      <td>rn546506667</td>\n",
       "      <td>Reviewed December 10, 2017</td>\n",
       "      <td>Choeng Thale</td>\n",
       "      <td>KEE Sky Lounge &amp; Restaurant</td>\n",
       "      <td>The food was delicious and well portioned and ...</td>\n",
       "    </tr>\n",
       "    <tr>\n",
       "      <th>33993</th>\n",
       "      <td>rn544801988</td>\n",
       "      <td>Reviewed December 3, 2017</td>\n",
       "      <td>Choeng Thale</td>\n",
       "      <td>KEE Sky Lounge &amp; Restaurant</td>\n",
       "      <td>From entering the elevator going up to the 6th...</td>\n",
       "    </tr>\n",
       "    <tr>\n",
       "      <th>33994</th>\n",
       "      <td>rn540816917</td>\n",
       "      <td>Reviewed November 13, 2017</td>\n",
       "      <td>Choeng Thale</td>\n",
       "      <td>KEE Sky Lounge &amp; Restaurant</td>\n",
       "      <td>Lovely food, great cocktails and all moderatel...</td>\n",
       "    </tr>\n",
       "    <tr>\n",
       "      <th>33995</th>\n",
       "      <td>rn539007477</td>\n",
       "      <td>Reviewed November 6, 2017</td>\n",
       "      <td>Choeng Thale</td>\n",
       "      <td>KEE Sky Lounge &amp; Restaurant</td>\n",
       "      <td>This our third time to The Kee and always rece...</td>\n",
       "    </tr>\n",
       "    <tr>\n",
       "      <th>33996</th>\n",
       "      <td>rn538198423</td>\n",
       "      <td>Reviewed November 3, 2017</td>\n",
       "      <td>Choeng Thale</td>\n",
       "      <td>KEE Sky Lounge &amp; Restaurant</td>\n",
       "      <td>On the rooftop of the resort was this restaura...</td>\n",
       "    </tr>\n",
       "  </tbody>\n",
       "</table>\n",
       "</div>"
      ],
      "text/plain": [
       "                ID                         Date       Location  \\\n",
       "33992  rn546506667  Reviewed December 10, 2017    Choeng Thale   \n",
       "33993  rn544801988   Reviewed December 3, 2017    Choeng Thale   \n",
       "33994  rn540816917  Reviewed November 13, 2017    Choeng Thale   \n",
       "33995  rn539007477   Reviewed November 6, 2017    Choeng Thale   \n",
       "33996  rn538198423   Reviewed November 3, 2017    Choeng Thale   \n",
       "\n",
       "                        Hotel_Name  \\\n",
       "33992  KEE Sky Lounge & Restaurant   \n",
       "33993  KEE Sky Lounge & Restaurant   \n",
       "33994  KEE Sky Lounge & Restaurant   \n",
       "33995  KEE Sky Lounge & Restaurant   \n",
       "33996  KEE Sky Lounge & Restaurant   \n",
       "\n",
       "                                                  Review  \n",
       "33992  The food was delicious and well portioned and ...  \n",
       "33993  From entering the elevator going up to the 6th...  \n",
       "33994  Lovely food, great cocktails and all moderatel...  \n",
       "33995  This our third time to The Kee and always rece...  \n",
       "33996  On the rooftop of the resort was this restaura...  "
      ]
     },
     "execution_count": 31,
     "metadata": {},
     "output_type": "execute_result"
    }
   ],
   "source": [
    "reviews.tail()"
   ]
  },
  {
   "cell_type": "code",
   "execution_count": 32,
   "id": "2f96a8e2",
   "metadata": {},
   "outputs": [
    {
     "name": "stdout",
     "output_type": "stream",
     "text": [
      "                 ID  Date  Hotel_Name  Review\n",
      "Location                                     \n",
      " Choeng Thale  1491  1491        1491    1491\n"
     ]
    }
   ],
   "source": [
    "print(reviews.groupby(\"Location\").count())"
   ]
  },
  {
   "cell_type": "code",
   "execution_count": 33,
   "id": "b386dc2c",
   "metadata": {},
   "outputs": [
    {
     "name": "stdout",
     "output_type": "stream",
     "text": [
      "                                          ID  Date  Location  Review\n",
      "Hotel_Name                                                          \n",
      "360 ° Bar                                100   100       100     100\n",
      "Ann's Kitchen Bar and Grill              100   100       100     100\n",
      "Audy Restaurant                          100   100       100     100\n",
      "Bampot Kitchen & Bar                     100   100       100     100\n",
      "Benny's American Bar & Grill             100   100       100     100\n",
      "DeDos                                    100   100       100     100\n",
      "Dee Plee - Anantara Layan Phuket Resort   93    93        93      93\n",
      "Golden Paradise Restaurant               100   100       100     100\n",
      "KEE Sky Lounge & Restaurant               98    98        98      98\n",
      "Nok and Jo's Restaurant                  100   100       100     100\n",
      "Red Tuna Restaurant Phuket               100   100       100     100\n",
      "Siam Supper Club                         100   100       100     100\n",
      "Taste Bar & Grill                        100   100       100     100\n",
      "The Beach Cuisine                        100   100       100     100\n",
      "The Corner Restaurant                    100   100       100     100\n"
     ]
    }
   ],
   "source": [
    "print(reviews.groupby(\"Hotel_Name\").count())"
   ]
  },
  {
   "cell_type": "code",
   "execution_count": 34,
   "id": "42730be9",
   "metadata": {},
   "outputs": [
    {
     "data": {
      "text/html": [
       "<div>\n",
       "<style scoped>\n",
       "    .dataframe tbody tr th:only-of-type {\n",
       "        vertical-align: middle;\n",
       "    }\n",
       "\n",
       "    .dataframe tbody tr th {\n",
       "        vertical-align: top;\n",
       "    }\n",
       "\n",
       "    .dataframe thead th {\n",
       "        text-align: right;\n",
       "    }\n",
       "</style>\n",
       "<table border=\"1\" class=\"dataframe\">\n",
       "  <thead>\n",
       "    <tr style=\"text-align: right;\">\n",
       "      <th></th>\n",
       "      <th>ID</th>\n",
       "      <th>Date</th>\n",
       "      <th>Location</th>\n",
       "      <th>Hotel_Name</th>\n",
       "      <th>Review</th>\n",
       "    </tr>\n",
       "  </thead>\n",
       "  <tbody>\n",
       "    <tr>\n",
       "      <th>300</th>\n",
       "      <td>rn580036469</td>\n",
       "      <td>Reviewed 1 week ago</td>\n",
       "      <td>Choeng Thale</td>\n",
       "      <td>Dee Plee - Anantara Layan Phuket Resort</td>\n",
       "      <td>[view, thai, food, serv, dee, plee, outstand, ...</td>\n",
       "    </tr>\n",
       "    <tr>\n",
       "      <th>301</th>\n",
       "      <td>rn580019506</td>\n",
       "      <td>Reviewed 1 week ago</td>\n",
       "      <td>Choeng Thale</td>\n",
       "      <td>Dee Plee - Anantara Layan Phuket Resort</td>\n",
       "      <td>[celebr, honeymoon, anantara, tri, dee, plee, ...</td>\n",
       "    </tr>\n",
       "    <tr>\n",
       "      <th>302</th>\n",
       "      <td>rn577321057</td>\n",
       "      <td>Reviewed 2 weeks ago</td>\n",
       "      <td>Choeng Thale</td>\n",
       "      <td>Dee Plee - Anantara Layan Phuket Resort</td>\n",
       "      <td>[great, thai, food, amaz, view, friendli, serv...</td>\n",
       "    </tr>\n",
       "    <tr>\n",
       "      <th>303</th>\n",
       "      <td>rn577073620</td>\n",
       "      <td>Reviewed 2 weeks ago</td>\n",
       "      <td>Choeng Thale</td>\n",
       "      <td>Dee Plee - Anantara Layan Phuket Resort</td>\n",
       "      <td>[occasion, place, despit, full, offer, sit, ou...</td>\n",
       "    </tr>\n",
       "    <tr>\n",
       "      <th>304</th>\n",
       "      <td>rn576749505</td>\n",
       "      <td>Reviewed 2 weeks ago</td>\n",
       "      <td>Choeng Thale</td>\n",
       "      <td>Dee Plee - Anantara Layan Phuket Resort</td>\n",
       "      <td>[dee, plee, signatur, thai, restaur, hotel, po...</td>\n",
       "    </tr>\n",
       "  </tbody>\n",
       "</table>\n",
       "</div>"
      ],
      "text/plain": [
       "              ID                   Date       Location  \\\n",
       "300  rn580036469   Reviewed 1 week ago    Choeng Thale   \n",
       "301  rn580019506   Reviewed 1 week ago    Choeng Thale   \n",
       "302  rn577321057  Reviewed 2 weeks ago    Choeng Thale   \n",
       "303  rn577073620  Reviewed 2 weeks ago    Choeng Thale   \n",
       "304  rn576749505  Reviewed 2 weeks ago    Choeng Thale   \n",
       "\n",
       "                                  Hotel_Name  \\\n",
       "300  Dee Plee - Anantara Layan Phuket Resort   \n",
       "301  Dee Plee - Anantara Layan Phuket Resort   \n",
       "302  Dee Plee - Anantara Layan Phuket Resort   \n",
       "303  Dee Plee - Anantara Layan Phuket Resort   \n",
       "304  Dee Plee - Anantara Layan Phuket Resort   \n",
       "\n",
       "                                                Review  \n",
       "300  [view, thai, food, serv, dee, plee, outstand, ...  \n",
       "301  [celebr, honeymoon, anantara, tri, dee, plee, ...  \n",
       "302  [great, thai, food, amaz, view, friendli, serv...  \n",
       "303  [occasion, place, despit, full, offer, sit, ou...  \n",
       "304  [dee, plee, signatur, thai, restaur, hotel, po...  "
      ]
     },
     "execution_count": 34,
     "metadata": {},
     "output_type": "execute_result"
    }
   ],
   "source": [
    "reviews['Review'] = reviews['Review'].apply(preprocess_text)\n",
    "reviews.head()"
   ]
  },
  {
   "cell_type": "code",
   "execution_count": 35,
   "id": "77956cf6",
   "metadata": {},
   "outputs": [
    {
     "data": {
      "text/html": [
       "<div>\n",
       "<style scoped>\n",
       "    .dataframe tbody tr th:only-of-type {\n",
       "        vertical-align: middle;\n",
       "    }\n",
       "\n",
       "    .dataframe tbody tr th {\n",
       "        vertical-align: top;\n",
       "    }\n",
       "\n",
       "    .dataframe thead th {\n",
       "        text-align: right;\n",
       "    }\n",
       "</style>\n",
       "<table border=\"1\" class=\"dataframe\">\n",
       "  <thead>\n",
       "    <tr style=\"text-align: right;\">\n",
       "      <th></th>\n",
       "      <th>0080</th>\n",
       "      <th>0081</th>\n",
       "      <th>0087</th>\n",
       "      <th>0089</th>\n",
       "      <th>008a</th>\n",
       "      <th>008b</th>\n",
       "      <th>008c</th>\n",
       "      <th>008d</th>\n",
       "      <th>008f</th>\n",
       "      <th>0090</th>\n",
       "      <th>...</th>\n",
       "      <th>youmor</th>\n",
       "      <th>young</th>\n",
       "      <th>youngest</th>\n",
       "      <th>yr</th>\n",
       "      <th>yui</th>\n",
       "      <th>yum</th>\n",
       "      <th>yummi</th>\n",
       "      <th>zeeland</th>\n",
       "      <th>zero</th>\n",
       "      <th>zip</th>\n",
       "    </tr>\n",
       "  </thead>\n",
       "  <tbody>\n",
       "    <tr>\n",
       "      <th>0</th>\n",
       "      <td>0</td>\n",
       "      <td>0</td>\n",
       "      <td>0</td>\n",
       "      <td>0</td>\n",
       "      <td>0</td>\n",
       "      <td>0</td>\n",
       "      <td>0</td>\n",
       "      <td>0</td>\n",
       "      <td>0</td>\n",
       "      <td>0</td>\n",
       "      <td>...</td>\n",
       "      <td>0</td>\n",
       "      <td>0</td>\n",
       "      <td>0</td>\n",
       "      <td>0</td>\n",
       "      <td>0</td>\n",
       "      <td>0</td>\n",
       "      <td>0</td>\n",
       "      <td>0</td>\n",
       "      <td>0</td>\n",
       "      <td>0</td>\n",
       "    </tr>\n",
       "    <tr>\n",
       "      <th>1</th>\n",
       "      <td>0</td>\n",
       "      <td>0</td>\n",
       "      <td>0</td>\n",
       "      <td>0</td>\n",
       "      <td>0</td>\n",
       "      <td>0</td>\n",
       "      <td>0</td>\n",
       "      <td>0</td>\n",
       "      <td>0</td>\n",
       "      <td>0</td>\n",
       "      <td>...</td>\n",
       "      <td>0</td>\n",
       "      <td>0</td>\n",
       "      <td>0</td>\n",
       "      <td>0</td>\n",
       "      <td>0</td>\n",
       "      <td>0</td>\n",
       "      <td>0</td>\n",
       "      <td>0</td>\n",
       "      <td>0</td>\n",
       "      <td>0</td>\n",
       "    </tr>\n",
       "    <tr>\n",
       "      <th>2</th>\n",
       "      <td>0</td>\n",
       "      <td>0</td>\n",
       "      <td>0</td>\n",
       "      <td>0</td>\n",
       "      <td>0</td>\n",
       "      <td>0</td>\n",
       "      <td>0</td>\n",
       "      <td>0</td>\n",
       "      <td>0</td>\n",
       "      <td>0</td>\n",
       "      <td>...</td>\n",
       "      <td>0</td>\n",
       "      <td>0</td>\n",
       "      <td>0</td>\n",
       "      <td>0</td>\n",
       "      <td>0</td>\n",
       "      <td>0</td>\n",
       "      <td>0</td>\n",
       "      <td>0</td>\n",
       "      <td>0</td>\n",
       "      <td>0</td>\n",
       "    </tr>\n",
       "    <tr>\n",
       "      <th>3</th>\n",
       "      <td>0</td>\n",
       "      <td>0</td>\n",
       "      <td>0</td>\n",
       "      <td>0</td>\n",
       "      <td>0</td>\n",
       "      <td>0</td>\n",
       "      <td>0</td>\n",
       "      <td>0</td>\n",
       "      <td>0</td>\n",
       "      <td>0</td>\n",
       "      <td>...</td>\n",
       "      <td>0</td>\n",
       "      <td>0</td>\n",
       "      <td>0</td>\n",
       "      <td>0</td>\n",
       "      <td>0</td>\n",
       "      <td>0</td>\n",
       "      <td>0</td>\n",
       "      <td>0</td>\n",
       "      <td>0</td>\n",
       "      <td>0</td>\n",
       "    </tr>\n",
       "    <tr>\n",
       "      <th>4</th>\n",
       "      <td>0</td>\n",
       "      <td>0</td>\n",
       "      <td>0</td>\n",
       "      <td>0</td>\n",
       "      <td>0</td>\n",
       "      <td>0</td>\n",
       "      <td>0</td>\n",
       "      <td>0</td>\n",
       "      <td>0</td>\n",
       "      <td>0</td>\n",
       "      <td>...</td>\n",
       "      <td>0</td>\n",
       "      <td>0</td>\n",
       "      <td>0</td>\n",
       "      <td>0</td>\n",
       "      <td>0</td>\n",
       "      <td>0</td>\n",
       "      <td>0</td>\n",
       "      <td>0</td>\n",
       "      <td>0</td>\n",
       "      <td>0</td>\n",
       "    </tr>\n",
       "  </tbody>\n",
       "</table>\n",
       "<p>5 rows × 3077 columns</p>\n",
       "</div>"
      ],
      "text/plain": [
       "   0080  0081  0087  0089  008a  008b  008c  008d  008f  0090  ...  youmor  \\\n",
       "0     0     0     0     0     0     0     0     0     0     0  ...       0   \n",
       "1     0     0     0     0     0     0     0     0     0     0  ...       0   \n",
       "2     0     0     0     0     0     0     0     0     0     0  ...       0   \n",
       "3     0     0     0     0     0     0     0     0     0     0  ...       0   \n",
       "4     0     0     0     0     0     0     0     0     0     0  ...       0   \n",
       "\n",
       "   young  youngest  yr  yui  yum  yummi  zeeland  zero  zip  \n",
       "0      0         0   0    0    0      0        0     0    0  \n",
       "1      0         0   0    0    0      0        0     0    0  \n",
       "2      0         0   0    0    0      0        0     0    0  \n",
       "3      0         0   0    0    0      0        0     0    0  \n",
       "4      0         0   0    0    0      0        0     0    0  \n",
       "\n",
       "[5 rows x 3077 columns]"
      ]
     },
     "execution_count": 35,
     "metadata": {},
     "output_type": "execute_result"
    }
   ],
   "source": [
    "X = vectorizer.fit_transform(reviews['Review'].map(' '.join))\n",
    "X = pd.DataFrame(X.toarray(), columns = vectorizer.get_feature_names_out())\n",
    "\n",
    "X.head()"
   ]
  },
  {
   "cell_type": "code",
   "execution_count": 36,
   "id": "28e9910f",
   "metadata": {},
   "outputs": [],
   "source": [
    "y = reviews['Hotel_Name']\n",
    "\n",
    "X_train, X_test, y_train, y_test = train_test_split(\n",
    "    X, y, train_size = 0.7, test_size = 0.3, random_state = 1)"
   ]
  },
  {
   "cell_type": "code",
   "execution_count": 37,
   "id": "12a05dbb",
   "metadata": {},
   "outputs": [
    {
     "data": {
      "text/plain": [
       "[Text(0, 0, '360 ° Bar'),\n",
       " Text(1, 0, \"Ann's Kitchen Bar and Grill\"),\n",
       " Text(2, 0, 'Audy Restaurant'),\n",
       " Text(3, 0, 'Bampot Kitchen & Bar'),\n",
       " Text(4, 0, \"Benny's American Bar & Grill\"),\n",
       " Text(5, 0, 'DeDos'),\n",
       " Text(6, 0, 'Dee Plee - Anantara Layan Phuket Resort'),\n",
       " Text(7, 0, 'Golden Paradise Restaurant'),\n",
       " Text(8, 0, 'KEE Sky Lounge & Restaurant'),\n",
       " Text(9, 0, \"Nok and Jo's Restaurant\"),\n",
       " Text(10, 0, 'Red Tuna Restaurant Phuket'),\n",
       " Text(11, 0, 'Siam Supper Club'),\n",
       " Text(12, 0, 'Taste Bar & Grill'),\n",
       " Text(13, 0, 'The Beach Cuisine'),\n",
       " Text(14, 0, 'The Corner Restaurant')]"
      ]
     },
     "execution_count": 37,
     "metadata": {},
     "output_type": "execute_result"
    },
    {
     "data": {
      "image/png": "[encoded data removed]",
      "text/plain": [
       "<Figure size 432x288 with 1 Axes>"
      ]
     },
     "metadata": {
      "needs_background": "light"
     },
     "output_type": "display_data"
    }
   ],
   "source": [
    "resampler = RandomUnderSampler(random_state = 1)\n",
    "X_train_undersampled, y_train_undersampled = resampler.fit_resample(X_train, y_train)\n",
    "\n",
    "chart = sns.countplot(x=y_train_undersampled)\n",
    "chart.set_xticklabels(chart.get_xticklabels(), rotation=90)"
   ]
  },
  {
   "cell_type": "code",
   "execution_count": 38,
   "id": "2dbdc32a",
   "metadata": {},
   "outputs": [
    {
     "data": {
      "text/html": [
       "<style>#sk-container-id-2 {color: black;background-color: white;}#sk-container-id-2 pre{padding: 0;}#sk-container-id-2 div.sk-toggleable {background-color: white;}#sk-container-id-2 label.sk-toggleable__label {cursor: pointer;display: block;width: 100%;margin-bottom: 0;padding: 0.3em;box-sizing: border-box;text-align: center;}#sk-container-id-2 label.sk-toggleable__label-arrow:before {content: \"▸\";float: left;margin-right: 0.25em;color: #696969;}#sk-container-id-2 label.sk-toggleable__label-arrow:hover:before {color: black;}#sk-container-id-2 div.sk-estimator:hover label.sk-toggleable__label-arrow:before {color: black;}#sk-container-id-2 div.sk-toggleable__content {max-height: 0;max-width: 0;overflow: hidden;text-align: left;background-color: #f0f8ff;}#sk-container-id-2 div.sk-toggleable__content pre {margin: 0.2em;color: black;border-radius: 0.25em;background-color: #f0f8ff;}#sk-container-id-2 input.sk-toggleable__control:checked~div.sk-toggleable__content {max-height: 200px;max-width: 100%;overflow: auto;}#sk-container-id-2 input.sk-toggleable__control:checked~label.sk-toggleable__label-arrow:before {content: \"▾\";}#sk-container-id-2 div.sk-estimator input.sk-toggleable__control:checked~label.sk-toggleable__label {background-color: #d4ebff;}#sk-container-id-2 div.sk-label input.sk-toggleable__control:checked~label.sk-toggleable__label {background-color: #d4ebff;}#sk-container-id-2 input.sk-hidden--visually {border: 0;clip: rect(1px 1px 1px 1px);clip: rect(1px, 1px, 1px, 1px);height: 1px;margin: -1px;overflow: hidden;padding: 0;position: absolute;width: 1px;}#sk-container-id-2 div.sk-estimator {font-family: monospace;background-color: #f0f8ff;border: 1px dotted black;border-radius: 0.25em;box-sizing: border-box;margin-bottom: 0.5em;}#sk-container-id-2 div.sk-estimator:hover {background-color: #d4ebff;}#sk-container-id-2 div.sk-parallel-item::after {content: \"\";width: 100%;border-bottom: 1px solid gray;flex-grow: 1;}#sk-container-id-2 div.sk-label:hover label.sk-toggleable__label {background-color: #d4ebff;}#sk-container-id-2 div.sk-serial::before {content: \"\";position: absolute;border-left: 1px solid gray;box-sizing: border-box;top: 0;bottom: 0;left: 50%;z-index: 0;}#sk-container-id-2 div.sk-serial {display: flex;flex-direction: column;align-items: center;background-color: white;padding-right: 0.2em;padding-left: 0.2em;position: relative;}#sk-container-id-2 div.sk-item {position: relative;z-index: 1;}#sk-container-id-2 div.sk-parallel {display: flex;align-items: stretch;justify-content: center;background-color: white;position: relative;}#sk-container-id-2 div.sk-item::before, #sk-container-id-2 div.sk-parallel-item::before {content: \"\";position: absolute;border-left: 1px solid gray;box-sizing: border-box;top: 0;bottom: 0;left: 50%;z-index: -1;}#sk-container-id-2 div.sk-parallel-item {display: flex;flex-direction: column;z-index: 1;position: relative;background-color: white;}#sk-container-id-2 div.sk-parallel-item:first-child::after {align-self: flex-end;width: 50%;}#sk-container-id-2 div.sk-parallel-item:last-child::after {align-self: flex-start;width: 50%;}#sk-container-id-2 div.sk-parallel-item:only-child::after {width: 0;}#sk-container-id-2 div.sk-dashed-wrapped {border: 1px dashed gray;margin: 0 0.4em 0.5em 0.4em;box-sizing: border-box;padding-bottom: 0.4em;background-color: white;}#sk-container-id-2 div.sk-label label {font-family: monospace;font-weight: bold;display: inline-block;line-height: 1.2em;}#sk-container-id-2 div.sk-label-container {text-align: center;}#sk-container-id-2 div.sk-container {/* jupyter's `normalize.less` sets `[hidden] { display: none; }` but bootstrap.min.css set `[hidden] { display: none !important; }` so we also need the `!important` here to be able to override the default hidden behavior on the sphinx rendered scikit-learn.org. See: https://github.com/scikit-learn/scikit-learn/issues/21755 */display: inline-block !important;position: relative;}#sk-container-id-2 div.sk-text-repr-fallback {display: none;}</style><div id=\"sk-container-id-2\" class=\"sk-top-container\"><div class=\"sk-text-repr-fallback\"><pre>MultinomialNB()</pre><b>In a Jupyter environment, please rerun this cell to show the HTML representation or trust the notebook. <br />On GitHub, the HTML representation is unable to render, please try loading this page with nbviewer.org.</b></div><div class=\"sk-container\" hidden><div class=\"sk-item\"><div class=\"sk-estimator sk-toggleable\"><input class=\"sk-toggleable__control sk-hidden--visually\" id=\"sk-estimator-id-2\" type=\"checkbox\" checked><label for=\"sk-estimator-id-2\" class=\"sk-toggleable__label sk-toggleable__label-arrow\">MultinomialNB</label><div class=\"sk-toggleable__content\"><pre>MultinomialNB()</pre></div></div></div></div></div>"
      ],
      "text/plain": [
       "MultinomialNB()"
      ]
     },
     "execution_count": 38,
     "metadata": {},
     "output_type": "execute_result"
    }
   ],
   "source": [
    "model.fit(X_train_undersampled, y_train_undersampled)"
   ]
  },
  {
   "cell_type": "code",
   "execution_count": 39,
   "id": "cb85fe00",
   "metadata": {},
   "outputs": [
    {
     "name": "stdout",
     "output_type": "stream",
     "text": [
      "Accuracy: 0.61\n"
     ]
    }
   ],
   "source": [
    "y_pred = model.predict(X_test)\n",
    "acc = metrics.accuracy_score(y_test, y_pred)\n",
    "print('Accuracy: %.2f'%(acc))"
   ]
  },
  {
   "cell_type": "code",
   "execution_count": 40,
   "id": "e3ffddb6",
   "metadata": {},
   "outputs": [
    {
     "data": {
      "image/png": "[encoded data removed]",
      "text/plain": [
       "<Figure size 864x864 with 2 Axes>"
      ]
     },
     "metadata": {
      "needs_background": "light"
     },
     "output_type": "display_data"
    }
   ],
   "source": [
    "plt.figure(figsize=(12, 12))\n",
    "sns.heatmap(confusion_matrix(y_test, y_pred), cmap='flare', annot=True, fmt='d')\n",
    "plt.xlabel(\"Predicted Class\", fontsize=12) \n",
    "plt.ylabel(\"True Class\", fontsize=12) \n",
    "plt.title('Text Mining Confusion Matrix')\n",
    "plt.show()"
   ]
  },
  {
   "cell_type": "code",
   "execution_count": 41,
   "id": "5a473191",
   "metadata": {},
   "outputs": [
    {
     "name": "stdout",
     "output_type": "stream",
     "text": [
      "Classification Report:\n",
      "\n",
      "                                         precision    recall  f1-score   support\n",
      "\n",
      "                              360 ° Bar       0.64      0.64      0.64        28\n",
      "            Ann's Kitchen Bar and Grill       0.68      0.68      0.68        31\n",
      "                        Audy Restaurant       0.67      0.63      0.65        38\n",
      "                   Bampot Kitchen & Bar       0.50      0.42      0.46        31\n",
      "           Benny's American Bar & Grill       0.65      0.45      0.54        33\n",
      "                                  DeDos       0.50      0.40      0.44        25\n",
      "Dee Plee - Anantara Layan Phuket Resort       0.72      0.64      0.68        28\n",
      "             Golden Paradise Restaurant       0.71      0.79      0.75        28\n",
      "            KEE Sky Lounge & Restaurant       0.68      0.71      0.69        24\n",
      "                Nok and Jo's Restaurant       0.65      0.70      0.68        37\n",
      "             Red Tuna Restaurant Phuket       0.51      0.96      0.67        25\n",
      "                       Siam Supper Club       0.64      0.57      0.60        28\n",
      "                      Taste Bar & Grill       0.36      0.32      0.34        31\n",
      "                      The Beach Cuisine       0.70      0.74      0.72        31\n",
      "                  The Corner Restaurant       0.50      0.50      0.50        30\n",
      "\n",
      "                               accuracy                           0.61       448\n",
      "                              macro avg       0.61      0.61      0.60       448\n",
      "                           weighted avg       0.61      0.61      0.60       448\n",
      "\n"
     ]
    }
   ],
   "source": [
    "result = metrics.classification_report(y_test, y_pred)\n",
    "print(\"Classification Report:\\n\",)\n",
    "print(result)"
   ]
  },
  {
   "cell_type": "code",
   "execution_count": null,
   "id": "31ba7f68",
   "metadata": {},
   "outputs": [],
   "source": []
  }
 ],
 "metadata": {
  "kernelspec": {
   "display_name": "Python 3 (ipykernel)",
   "language": "python",
   "name": "python3"
  },
  "language_info": {
   "codemirror_mode": {
    "name": "ipython",
    "version": 3
   },
   "file_extension": ".py",
   "mimetype": "text/x-python",
   "name": "python",
   "nbconvert_exporter": "python",
   "pygments_lexer": "ipython3",
   "version": "3.9.12"
  }
 },
 "nbformat": 4,
 "nbformat_minor": 5
}
